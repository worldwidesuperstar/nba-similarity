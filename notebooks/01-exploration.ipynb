{
 "cells": [
  {
   "cell_type": "code",
   "execution_count": 4,
   "id": "67dd9b49",
   "metadata": {},
   "outputs": [
    {
     "name": "stdout",
     "output_type": "stream",
     "text": [
      "   PLAYER_ID  RANK                   PLAYER     TEAM_ID TEAM  GP   MIN   FGM  \\\n",
      "0    1628983     1  Shai Gilgeous-Alexander  1610612760  OKC  76  34.2  11.3   \n",
      "1     203507     2    Giannis Antetokounmpo  1610612749  MIL  67  34.2  11.8   \n",
      "2     203999     3             Nikola Jokić  1610612743  DEN  70  36.7  11.2   \n",
      "3    1630162     4          Anthony Edwards  1610612750  MIN  79  36.3   9.1   \n",
      "4    1628369     5             Jayson Tatum  1610612738  BOS  72  36.4   9.2   \n",
      "\n",
      "    FGA  FG_PCT  ...  FT_PCT  OREB  DREB   REB   AST  STL  BLK  TOV   PTS  \\\n",
      "0  21.8   0.519  ...   0.898   0.9   4.1   5.0   6.4  1.7  1.0  2.4  32.7   \n",
      "1  19.7   0.601  ...   0.617   2.2   9.7  11.9   6.5  0.9  1.2  3.1  30.4   \n",
      "2  19.5   0.576  ...   0.800   2.9   9.9  12.7  10.2  1.8  0.6  3.3  29.6   \n",
      "3  20.4   0.447  ...   0.837   0.8   4.9   5.7   4.5  1.2  0.6  3.2  27.6   \n",
      "4  20.3   0.452  ...   0.814   0.7   8.0   8.7   6.0  1.1  0.5  2.9  26.8   \n",
      "\n",
      "    EFF  \n",
      "0  33.0  \n",
      "1  35.8  \n",
      "2  42.2  \n",
      "3  24.1  \n",
      "4  27.9  \n",
      "\n",
      "[5 rows x 25 columns]\n",
      "Index(['PLAYER_ID', 'RANK', 'PLAYER', 'TEAM_ID', 'TEAM', 'GP', 'MIN', 'FGM',\n",
      "       'FGA', 'FG_PCT', 'FG3M', 'FG3A', 'FG3_PCT', 'FTM', 'FTA', 'FT_PCT',\n",
      "       'OREB', 'DREB', 'REB', 'AST', 'STL', 'BLK', 'TOV', 'PTS', 'EFF'],\n",
      "      dtype='object')\n",
      "  GROUP_SET GROUP_VALUE  GP   W  L  W_PCT          MIN  FGM  FGA  FG_PCT  ...  \\\n",
      "0  Location        Home  39  33  6  0.846  1308.685000  458  850   0.539  ...   \n",
      "1  Location     Neutral   1   1  0  1.000    37.616667    8   21   0.381  ...   \n",
      "2  Location        Road  36  29  7  0.806  1251.328333  394  785   0.502  ...   \n",
      "\n",
      "   BLKA_RANK  PF_RANK  PFD_RANK  PTS_RANK  PLUS_MINUS_RANK  \\\n",
      "0          2        2         2         1                1   \n",
      "1          1        1         3         3                3   \n",
      "2          3        3         1         2                2   \n",
      "\n",
      "   NBA_FANTASY_PTS_RANK  DD2_RANK  TD3_RANK  WNBA_FANTASY_PTS_RANK  TEAM_COUNT  \n",
      "0                     1         1         1                      1           1  \n",
      "1                     3         3         1                      3           1  \n",
      "2                     2         2         1                      2           1  \n",
      "\n",
      "[3 rows x 63 columns]\n",
      "  GROUP_SET GROUP_VALUE  GP   W  L  W_PCT          MIN  FGM  FGA  FG_PCT  ...  \\\n",
      "0  Location        Home  39  33  6  0.846  1308.685000  458  850   0.539  ...   \n",
      "1  Location     Neutral   1   1  0  1.000    37.616667    8   21   0.381  ...   \n",
      "2  Location        Road  36  29  7  0.806  1251.328333  394  785   0.502  ...   \n",
      "\n",
      "   BLKA_RANK  PF_RANK  PFD_RANK  PTS_RANK  PLUS_MINUS_RANK  \\\n",
      "0          2        2         2         1                1   \n",
      "1          1        1         3         3                3   \n",
      "2          3        3         1         2                2   \n",
      "\n",
      "   NBA_FANTASY_PTS_RANK  DD2_RANK  TD3_RANK  WNBA_FANTASY_PTS_RANK  TEAM_COUNT  \n",
      "0                     1         1         1                      1           1  \n",
      "1                     3         3         1                      3           1  \n",
      "2                     2         2         1                      2           1  \n",
      "\n",
      "[3 rows x 63 columns]\n"
     ]
    }
   ],
   "source": [
    "import pandas as pd\n",
    "import glob\n",
    "\n",
    "# Load leaderboard\n",
    "leaders = pd.read_csv('../data/raw/top200_per.csv')\n",
    "print(leaders.head())\n",
    "print(leaders.columns)\n",
    "\n",
    "# Load a single player's splits/shotchart as a test\n",
    "player_id = leaders.iloc[0]['PLAYER_ID']\n",
    "splits = pd.read_csv(f'../data/raw/{player_id}_general_splits.csv')\n",
    "shots = pd.read_csv(f'../data/raw/{player_id}_shot_data.csv')\n",
    "print(splits.head())\n",
    "print(shots.head())\n"
   ]
  }
 ],
 "metadata": {
  "kernelspec": {
   "display_name": ".venv",
   "language": "python",
   "name": "python3"
  },
  "language_info": {
   "codemirror_mode": {
    "name": "ipython",
    "version": 3
   },
   "file_extension": ".py",
   "mimetype": "text/x-python",
   "name": "python",
   "nbconvert_exporter": "python",
   "pygments_lexer": "ipython3",
   "version": "3.9.6"
  }
 },
 "nbformat": 4,
 "nbformat_minor": 5
}
