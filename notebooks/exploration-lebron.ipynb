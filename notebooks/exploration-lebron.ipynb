{
 "cells": [
  {
   "cell_type": "markdown",
   "metadata": {},
   "source": [
    "# Basketball IQ Analysis: LeBron James\n",
    "\n",
    "Comprehensive analysis of Basketball IQ indicators using NBA API data for LeBron James (ID: 2544)."
   ]
  },
  {
   "cell_type": "code",
   "execution_count": 245,
   "metadata": {},
   "outputs": [
    {
     "name": "stdout",
     "output_type": "stream",
     "text": [
      "=== LEBRON BASIC STATS ===\n",
      "Player: LeBron James\n",
      "Team: LAL\n",
      "PPG: 24.4\n",
      "AST: 8.2\n",
      "TOV: 3.7\n",
      "Games Played: 70\n"
     ]
    }
   ],
   "source": [
    "import pandas as pd\n",
    "import numpy as np\n",
    "\n",
    "# LeBron's player ID\n",
    "lebron_id = \"2544\"\n",
    "\n",
    "# Load basic stats\n",
    "top200 = pd.read_csv('../data/raw/top200_per.csv')\n",
    "lebron_basic = top200[top200['PLAYER_ID'] == int(lebron_id)].iloc[0]\n",
    "\n",
    "print(\"=== LEBRON BASIC STATS ===\")\n",
    "print(f\"Player: {lebron_basic['PLAYER']}\")\n",
    "print(f\"Team: {lebron_basic['TEAM']}\")\n",
    "print(f\"PPG: {lebron_basic['PTS']}\")\n",
    "print(f\"AST: {lebron_basic['AST']}\")\n",
    "print(f\"TOV: {lebron_basic['TOV']}\")\n",
    "print(f\"Games Played: {lebron_basic['GP']}\")"
   ]
  },
  {
   "cell_type": "code",
   "execution_count": 246,
   "metadata": {},
   "outputs": [
    {
     "name": "stdout",
     "output_type": "stream",
     "text": [
      "\n",
      "1. Assist-to-Turnover Ratio: 2.216\n",
      "   Assists: 8.2, Turnovers: 3.7\n",
      "   Interpretation: High ratio indicates smart decisions under pressure\n",
      "   League elite threshold: ~3.5+, LeBron: 2.2\n"
     ]
    }
   ],
   "source": [
    "# 1. Assist-to-Turnover Ratio\n",
    "ast_tov_ratio = lebron_basic['AST'] / lebron_basic['TOV']\n",
    "\n",
    "print(f\"\\n1. Assist-to-Turnover Ratio: {ast_tov_ratio:.3f}\")\n",
    "print(f\"   Assists: {lebron_basic['AST']}, Turnovers: {lebron_basic['TOV']}\")\n",
    "print(f\"   Interpretation: High ratio indicates smart decisions under pressure\")\n",
    "print(f\"   League elite threshold: ~3.5+, LeBron: {ast_tov_ratio:.1f}\")"
   ]
  },
  {
   "cell_type": "code",
   "execution_count": 247,
   "metadata": {},
   "outputs": [
    {
     "name": "stdout",
     "output_type": "stream",
     "text": [
      "\n",
      "2. Late Clock Efficiency (Composure Under Pressure)\n",
      "Shot Clock Data:\n",
      "   SHOT_CLOCK_RANGE  FGA_FREQUENCY  FG_PCT\n",
      "0             24-22          0.020   0.760\n",
      "1  22-18 Very Early          0.176   0.665\n",
      "2       18-15 Early          0.119   0.503\n",
      "3      15-7 Average          0.457   0.491\n",
      "4          7-4 Late          0.118   0.407\n",
      "5     4-0 Very Late          0.109   0.439\n",
      "\n",
      "Late Clock (7-4 sec) FG%: 0.407\n",
      "Very Late Clock (4-0 sec) FG%: 0.439\n",
      "Combined Late Clock Efficiency: 0.422\n",
      "Interpretation: Higher efficiency in pressure situations shows composure and smart shot selection\n"
     ]
    }
   ],
   "source": [
    "# 2. Late Clock Efficiency\n",
    "shot_clock_data = pd.read_csv(f'../data/raw/{lebron_id}_DribbleShooting.csv')\n",
    "\n",
    "print(\"\\n2. Late Clock Efficiency (Composure Under Pressure)\")\n",
    "print(\"Shot Clock Data:\")\n",
    "print(shot_clock_data[['SHOT_CLOCK_RANGE', 'FGA_FREQUENCY', 'FG_PCT']].round(3))\n",
    "\n",
    "# Calculate late clock efficiency (7-4 Late + 4-0 Very Late)\n",
    "late_clock = shot_clock_data[shot_clock_data['SHOT_CLOCK_RANGE'] == '7-4 Late']['FG_PCT'].iloc[0]\n",
    "very_late_clock = shot_clock_data[shot_clock_data['SHOT_CLOCK_RANGE'] == '4-0 Very Late']['FG_PCT'].iloc[0]\n",
    "\n",
    "# Weight by frequency for combined late clock efficiency\n",
    "late_freq = shot_clock_data[shot_clock_data['SHOT_CLOCK_RANGE'] == '7-4 Late']['FGA_FREQUENCY'].iloc[0]\n",
    "very_late_freq = shot_clock_data[shot_clock_data['SHOT_CLOCK_RANGE'] == '4-0 Very Late']['FGA_FREQUENCY'].iloc[0]\n",
    "\n",
    "combined_late_efficiency = (late_clock * late_freq + very_late_clock * very_late_freq) / (late_freq + very_late_freq)\n",
    "\n",
    "print(f\"\\nLate Clock (7-4 sec) FG%: {late_clock:.3f}\")\n",
    "print(f\"Very Late Clock (4-0 sec) FG%: {very_late_clock:.3f}\")\n",
    "print(f\"Combined Late Clock Efficiency: {combined_late_efficiency:.3f}\")\n",
    "print(f\"Interpretation: Higher efficiency in pressure situations shows composure and smart shot selection\")"
   ]
  },
  {
   "cell_type": "code",
   "execution_count": 248,
   "metadata": {},
   "outputs": [
    {
     "name": "stdout",
     "output_type": "stream",
     "text": [
      "\n",
      "3. Clutch Decision Quality (AST/TOV in close games)\n",
      "   Clutch Assists: 6.8\n",
      "   Clutch Turnovers: 2.5\n",
      "   Clutch AST/TOV Ratio: 2.720\n",
      "   Interpretation: Decision-making quality when games are on the line\n"
     ]
    }
   ],
   "source": [
    "# 3. Clutch AST/TOV (Decision quality in pressure situations)\n",
    "clutch_stats = pd.read_csv('../data/raw/league_clutch_stats.csv')\n",
    "\n",
    "# Find LeBron in clutch stats\n",
    "lebron_clutch = clutch_stats[clutch_stats['PLAYER_ID'] == int(lebron_id)]\n",
    "\n",
    "if not lebron_clutch.empty:\n",
    "    lebron_clutch = lebron_clutch.iloc[0]\n",
    "    clutch_ast_tov = lebron_clutch['AST'] / lebron_clutch['TOV'] if lebron_clutch['TOV'] > 0 else float('inf')\n",
    "    \n",
    "    print(f\"\\n3. Clutch Decision Quality (AST/TOV in close games)\")\n",
    "    print(f\"   Clutch Assists: {lebron_clutch['AST']:.1f}\")\n",
    "    print(f\"   Clutch Turnovers: {lebron_clutch['TOV']:.1f}\")\n",
    "    print(f\"   Clutch AST/TOV Ratio: {clutch_ast_tov:.3f}\")\n",
    "    print(f\"   Interpretation: Decision-making quality when games are on the line\")\n",
    "else:\n",
    "    print(f\"\\n3. Clutch Decision Quality: No clutch data available for LeBron\")"
   ]
  },
  {
   "cell_type": "code",
   "execution_count": 249,
   "metadata": {},
   "outputs": [
    {
     "name": "stdout",
     "output_type": "stream",
     "text": [
      "\n",
      "4. Shot Selection Intelligence (Effective Field Goal %)\n",
      "   FG%: 0.513\n",
      "   3P%: 0.376\n",
      "   3PA/FGA: 0.315\n",
      "   Effective FG%: 0.572\n",
      "   Interpretation: Higher eFG% indicates smart shot selection and recognition of good opportunities\n"
     ]
    }
   ],
   "source": [
    "# 4. Effective Field Goal % (Shot Selection Intelligence)\n",
    "fg_pct = lebron_basic['FG_PCT']\n",
    "fg3_pct = lebron_basic['FG3_PCT'] \n",
    "fg3a_per_fga = lebron_basic['FG3A'] / lebron_basic['FGA']\n",
    "\n",
    "# Calculate eFG% = (FGM + 0.5 * 3PM) / FGA\n",
    "efg_pct = (lebron_basic['FGM'] + 0.5 * lebron_basic['FG3M']) / lebron_basic['FGA']\n",
    "\n",
    "print(f\"\\n4. Shot Selection Intelligence (Effective Field Goal %)\")\n",
    "print(f\"   FG%: {fg_pct:.3f}\")\n",
    "print(f\"   3P%: {fg3_pct:.3f}\")\n",
    "print(f\"   3PA/FGA: {fg3a_per_fga:.3f}\")\n",
    "print(f\"   Effective FG%: {efg_pct:.3f}\")\n",
    "print(f\"   Interpretation: Higher eFG% indicates smart shot selection and recognition of good opportunities\")"
   ]
  },
  {
   "cell_type": "code",
   "execution_count": 250,
   "metadata": {},
   "outputs": [
    {
     "name": "stdout",
     "output_type": "stream",
     "text": [
      "\n",
      "5. Deflections per 36 (Anticipation & Game Reading)\n",
      "   Deflections per 36: 1.90\n",
      "   Interpretation: Higher rate shows anticipation and ability to read offensive patterns\n"
     ]
    }
   ],
   "source": [
    "# 5. Deflections per 36 (Anticipation and Reading the Game)\n",
    "hustle_stats = pd.read_csv('../data/raw/league_hustle_stats.csv')\n",
    "lebron_hustle = hustle_stats[hustle_stats['PLAYER_ID'] == int(lebron_id)]\n",
    "\n",
    "if not lebron_hustle.empty:\n",
    "    lebron_hustle = lebron_hustle.iloc[0]\n",
    "    # Data is already per 36, no need to normalize\n",
    "    deflections_per_36 = lebron_hustle['DEFLECTIONS']\n",
    "\n",
    "    print(f\"\\n5. Deflections per 36 (Anticipation & Game Reading)\")\n",
    "    print(f\"   Deflections per 36: {deflections_per_36:.2f}\")\n",
    "    print(f\"   Interpretation: Higher rate shows anticipation and ability to read offensive patterns\")\n",
    "else:\n",
    "    print(f\"\\n5. Deflections per 36: No hustle data available for LeBron\")"
   ]
  },
  {
   "cell_type": "code",
   "execution_count": 251,
   "metadata": {},
   "outputs": [
    {
     "name": "stdout",
     "output_type": "stream",
     "text": [
      "\n",
      "6. Screen Assists per 36 (Off-ball Intelligence)\n",
      "   Screen Assists per 36: 0.90\n",
      "   Interpretation: Shows understanding of how to create opportunities for teammates through positioning\n"
     ]
    }
   ],
   "source": [
    "# 6. Screen Assists per 36 (Off-ball Intelligence)\n",
    "if not lebron_hustle.empty:\n",
    "    # Data is already per 36, no need to normalize\n",
    "    screen_assists_per_36 = lebron_hustle['SCREEN_ASSISTS']\n",
    "\n",
    "    print(f\"\\n6. Screen Assists per 36 (Off-ball Intelligence)\")\n",
    "    print(f\"   Screen Assists per 36: {screen_assists_per_36:.2f}\")\n",
    "    print(f\"   Interpretation: Shows understanding of how to create opportunities for teammates through positioning\")\n",
    "else:\n",
    "    print(f\"\\n6. Screen Assists per 36: No hustle data available for LeBron\")"
   ]
  },
  {
   "cell_type": "code",
   "execution_count": 252,
   "metadata": {},
   "outputs": [
    {
     "name": "stdout",
     "output_type": "stream",
     "text": [
      "\n",
      "7. Quick Decision Efficiency (Success when forced to decide quickly)\n",
      "Touch Time Data:\n",
      "    TOUCH_TIME_RANGE  FGA_FREQUENCY  FG_PCT\n",
      "0  Touch < 2 Seconds          0.334   0.575\n",
      "1  Touch 2-6 Seconds          0.328   0.463\n",
      "2   Touch 6+ Seconds          0.338   0.499\n",
      "\n",
      "Quick Decision (<2 sec) Efficiency: 0.575\n",
      "Quick Decision Frequency: 0.334\n",
      "Quick Decision Impact (Freq × Eff): 0.192\n",
      "Overall Weighted Efficiency: 0.513\n",
      "Quick Decision Relative Impact: 0.375\n",
      "Interpretation: 37.47% of Lebron's overall shooting value comes from quick decisions.\n"
     ]
    }
   ],
   "source": [
    "# 7. Quick Decision Efficiency (Success rate when forced to decide quickly)\n",
    "touch_time_data = pd.read_csv(f'../data/raw/{lebron_id}_TouchTimeShooting.csv')\n",
    "\n",
    "print(f\"\\n7. Quick Decision Efficiency (Success when forced to decide quickly)\")\n",
    "print(\"Touch Time Data:\")\n",
    "print(touch_time_data[['TOUCH_TIME_RANGE', 'FGA_FREQUENCY', 'FG_PCT']].round(3))\n",
    "\n",
    "quick_decision_efficiency = touch_time_data[touch_time_data['TOUCH_TIME_RANGE'] == 'Touch < 2 Seconds']['FG_PCT'].iloc[0]\n",
    "quick_decision_frequency = touch_time_data[touch_time_data['TOUCH_TIME_RANGE'] == 'Touch < 2 Seconds']['FGA_FREQUENCY'].iloc[0]\n",
    "\n",
    "# Calculate frequency-weighted quick decision impact\n",
    "quick_decision_impact = quick_decision_frequency * quick_decision_efficiency\n",
    "\n",
    "# Calculate overall weighted efficiency for comparison\n",
    "total_weighted_efficiency = (touch_time_data['FGA_FREQUENCY'] * touch_time_data['FG_PCT']).sum()\n",
    "quick_decision_relative_impact = quick_decision_impact/total_weighted_efficiency\n",
    "\n",
    "print(f\"\\nQuick Decision (<2 sec) Efficiency: {quick_decision_efficiency:.3f}\")\n",
    "print(f\"Quick Decision Frequency: {quick_decision_frequency:.3f}\")\n",
    "print(f\"Quick Decision Impact (Freq × Eff): {quick_decision_impact:.3f}\")\n",
    "print(f\"Overall Weighted Efficiency: {total_weighted_efficiency:.3f}\")\n",
    "print(f\"Quick Decision Relative Impact: {quick_decision_impact/total_weighted_efficiency:.3f}\")\n",
    "print(f\"Interpretation: {100 * quick_decision_relative_impact:.2f}% of Lebron's overall shooting value comes from quick decisions.\")"
   ]
  },
  {
   "cell_type": "code",
   "execution_count": 253,
   "metadata": {},
   "outputs": [
    {
     "name": "stdout",
     "output_type": "stream",
     "text": [
      "\n",
      "8. Loose Balls Recovered per 36 (Defensive Timing & Hustle)\n",
      "   Loose Balls per 36: 0.70\n",
      "   Interpretation: Shows anticipation, positioning, and effort on 50/50 balls\n"
     ]
    }
   ],
   "source": [
    "# 8. Loose Balls Recovered per 36 (Defensive Timing and Hustle)\n",
    "if not lebron_hustle.empty:\n",
    "    loose_balls_per_36 = lebron_hustle['LOOSE_BALLS_RECOVERED']\n",
    "    \n",
    "    print(f\"\\n8. Loose Balls Recovered per 36 (Defensive Timing & Hustle)\")\n",
    "    print(f\"   Loose Balls per 36: {loose_balls_per_36:.2f}\")\n",
    "    print(f\"   Interpretation: Shows anticipation, positioning, and effort on 50/50 balls\")\n",
    "else:\n",
    "    print(\"=== RISK MANAGEMENT IQ ===\")\n",
    "    print(f\"\\n8. Loose Balls Recovered per 36: No hustle data available for LeBron\")"
   ]
  },
  {
   "cell_type": "code",
   "execution_count": 254,
   "metadata": {},
   "outputs": [
    {
     "name": "stdout",
     "output_type": "stream",
     "text": [
      "lebron defended 616.76 shots in the season\n",
      "\n",
      "9. Shooting Foul Percentage\n",
      "   Total shots defended: 617\n",
      "   Estimated shooting fouls: 14.7\n",
      "   Shooting Foul Percentage: 2.4%\n",
      "   Interpretation: Lower percentage shows better defensive discipline\n"
     ]
    }
   ],
   "source": [
    "# 9. Shooting Foul Percentage (Defensive Discipline)\n",
    "general_splits = pd.read_csv(f'../data/raw/{lebron_id}_general_splits.csv')\n",
    "closest_defender = pd.read_csv(f'../data/raw/{lebron_id}_ClosestDefenderShooting.csv')\n",
    "\n",
    "if not general_splits.empty and not closest_defender.empty:\n",
    "    # Use overall stats row (total season stats)\n",
    "    overall_stats = general_splits.iloc[0]\n",
    "\n",
    "    personal_fouls = overall_stats['PF']\n",
    "    minutes = overall_stats['MIN']\n",
    "    games_played = overall_stats['GP']\n",
    "\n",
    "    # Calculate total shots defended (sum FGA from all shot types, multiply by games)\n",
    "    shots_defended_per_game = closest_defender['FGA'].sum()\n",
    "    total_shots_defended = shots_defended_per_game * games_played\n",
    "\n",
    "    print(f\"lebron defended {total_shots_defended} shots in the season\")\n",
    "\n",
    "    # Assume shooting fouls are one third of all personal fouls\n",
    "    shooting_fouls = personal_fouls * 0.333\n",
    "\n",
    "    # Calculate shooting foul percentage\n",
    "    shooting_foul_percentage = (shooting_fouls / total_shots_defended * 100) if total_shots_defended > 0 else 0\n",
    "\n",
    "    print(f\"\\n9. Shooting Foul Percentage\")\n",
    "    print(f\"   Total shots defended: {total_shots_defended:.0f}\")\n",
    "    print(f\"   Estimated shooting fouls: {shooting_fouls:.1f}\")\n",
    "    print(f\"   Shooting Foul Percentage: {shooting_foul_percentage:.1f}%\")\n",
    "    print(f\"   Interpretation: Lower percentage shows better defensive discipline\")\n",
    "else:\n",
    "    print(f\"\\n9. Shooting Foul Percentage: Data not available for LeBron\")"
   ]
  },
  {
   "cell_type": "code",
   "execution_count": 255,
   "metadata": {},
   "outputs": [
    {
     "name": "stdout",
     "output_type": "stream",
     "text": [
      "\n",
      "10. Successful Box Outs per 36 (Rebounding Positioning & Effort)\n",
      "   Rebounds after Box Outs per 36: 0.40\n",
      "   Total Box Outs per 36: 0.60\n",
      "   Box Out Success Rate: 0.667\n",
      "   Interpretation: Shows both positioning effort and effectiveness in securing rebounds\n"
     ]
    }
   ],
   "source": [
    "# 10. Successful Box Outs per 36 (Rebounding Positioning and Effort)\n",
    "if not lebron_hustle.empty:\n",
    "    successful_boxouts_per_36 = lebron_hustle['BOX_OUT_PLAYER_REBS']\n",
    "    total_boxouts_per_36 = lebron_hustle['BOX_OUTS']\n",
    "    boxout_success_rate = lebron_hustle['BOX_OUT_PLAYER_REBS'] / lebron_hustle['BOX_OUTS'] if lebron_hustle['BOX_OUTS'] > 0 else 0\n",
    "    \n",
    "    print(f\"\\n10. Successful Box Outs per 36 (Rebounding Positioning & Effort)\")\n",
    "    print(f\"   Rebounds after Box Outs per 36: {successful_boxouts_per_36:.2f}\")\n",
    "    print(f\"   Total Box Outs per 36: {total_boxouts_per_36:.2f}\")\n",
    "    print(f\"   Box Out Success Rate: {boxout_success_rate:.3f}\")\n",
    "    print(f\"   Interpretation: Shows both positioning effort and effectiveness in securing rebounds\")\n",
    "else:\n",
    "    print(f\"\\n10. Successful Box Outs per 36: No hustle data available for LeBron\")"
   ]
  },
  {
   "cell_type": "code",
   "execution_count": 256,
   "metadata": {},
   "outputs": [
    {
     "name": "stdout",
     "output_type": "stream",
     "text": [
      "\n",
      "11. Charges Drawn per 36 (Risk vs Reward Decision Making)\n",
      "   Charges Drawn per 36: 0.10\n",
      "   Interpretation: Shows willingness to take calculated risks for defensive advantage\n"
     ]
    }
   ],
   "source": [
    "# 11. Charges Drawn per 36 (Risk vs Reward Decision Making)\n",
    "if not lebron_hustle.empty:\n",
    "    charges_per_36 = lebron_hustle['CHARGES_DRAWN']\n",
    "\n",
    "    print(f\"\\n11. Charges Drawn per 36 (Risk vs Reward Decision Making)\")\n",
    "    print(f\"   Charges Drawn per 36: {charges_per_36:.2f}\")\n",
    "    print(f\"   Interpretation: Shows willingness to take calculated risks for defensive advantage\")\n",
    "else:\n",
    "    print(f\"\\n11. Charges Drawn per 36: No hustle data available for LeBron\")"
   ]
  },
  {
   "cell_type": "code",
   "execution_count": 257,
   "metadata": {},
   "outputs": [
    {
     "name": "stdout",
     "output_type": "stream",
     "text": [
      "\n",
      "12. Personalized Shot Selection Intelligence (Corrected)\n",
      "Available shooting data with actual percentages:\n",
      "         SHOT_TYPE  FGA_FREQUENCY  FG_PCT  EFG_PCT\n",
      "0  Catch and Shoot          0.178   0.429    0.619\n",
      "1         Pull Ups          0.337   0.386    0.451\n",
      "2  Less than 10 ft          0.461   0.641    0.641\n",
      "3            Other          0.024   0.452    0.565\n",
      "\n",
      "Shot Selection Analysis:\n",
      "\n",
      "At Rim/Close Range (< 10 ft):\n",
      "   Frequency: 46.1%\n",
      "   FG%: 0.641\n",
      "   Points per Shot: 1.282\n",
      "\n",
      "Catch and Shoot:\n",
      "   Frequency: 17.8%\n",
      "   FG%: 0.429\n",
      "   eFG%: 0.619\n",
      "\n",
      "Pull Up Shots:\n",
      "   Frequency: 33.7%\n",
      "   FG%: 0.386\n",
      "   eFG%: 0.451\n",
      "\n",
      "Shot Selection Efficiency:\n",
      "   Close Range Value: 0.591\n",
      "   Catch & Shoot Value: 0.110\n",
      "   Pull Up Value: 0.152\n",
      "   Total Shot Selection Value: 0.853\n",
      "   Interpretation: Higher values indicate better shot selection for this player's skillset\n"
     ]
    }
   ],
   "source": [
    "# 12. Corrected Personalized Shot Selection Intelligence (Using Shooting % Data)\n",
    "closest_def_shooting = pd.read_csv(f'../data/raw/{lebron_id}_ClosestDefenderShooting.csv')\n",
    "\n",
    "if not closest_def_shooting.empty:\n",
    "    print(f\"\\n12. Personalized Shot Selection Intelligence (Corrected)\")\n",
    "    print(\"Available shooting data with actual percentages:\")\n",
    "    print(closest_def_shooting[['SHOT_TYPE', 'FGA_FREQUENCY', 'FG_PCT', 'EFG_PCT']])\n",
    "\n",
    "    # Extract key zones from available data\n",
    "    close_shots = closest_def_shooting[closest_def_shooting['SHOT_TYPE'] == 'Less than 10 ft'].iloc[0]\n",
    "    catch_shoot = closest_def_shooting[closest_def_shooting['SHOT_TYPE'] == 'Catch and Shoot'].iloc[0]\n",
    "    pull_ups = closest_def_shooting[closest_def_shooting['SHOT_TYPE'] == 'Pull Ups'].iloc[0]\n",
    "\n",
    "    print(f\"\\nShot Selection Analysis:\")\n",
    "    print(f\"\\nAt Rim/Close Range (< 10 ft):\")\n",
    "    print(f\"   Frequency: {close_shots['FGA_FREQUENCY']:.1%}\")\n",
    "    print(f\"   FG%: {close_shots['FG_PCT']:.3f}\")\n",
    "    print(f\"   Points per Shot: {close_shots['FG_PCT'] * 2:.3f}\")\n",
    "\n",
    "    print(f\"\\nCatch and Shoot:\")\n",
    "    print(f\"   Frequency: {catch_shoot['FGA_FREQUENCY']:.1%}\")\n",
    "    print(f\"   FG%: {catch_shoot['FG_PCT']:.3f}\")\n",
    "    print(f\"   eFG%: {catch_shoot['EFG_PCT']:.3f}\")\n",
    "\n",
    "    print(f\"\\nPull Up Shots:\")\n",
    "    print(f\"   Frequency: {pull_ups['FGA_FREQUENCY']:.1%}\")\n",
    "    print(f\"   FG%: {pull_ups['FG_PCT']:.3f}\")\n",
    "    print(f\"   eFG%: {pull_ups['EFG_PCT']:.3f}\")\n",
    "\n",
    "    # Basic shot selection score (higher frequency on higher efficiency shots)\n",
    "    close_range_value = close_shots['FGA_FREQUENCY'] * (close_shots['FG_PCT'] * 2)\n",
    "    catch_shoot_value = catch_shoot['FGA_FREQUENCY'] * catch_shoot['EFG_PCT']\n",
    "    pull_up_value = pull_ups['FGA_FREQUENCY'] * pull_ups['EFG_PCT']\n",
    "\n",
    "    total_shot_value = close_range_value + catch_shoot_value + pull_up_value\n",
    "\n",
    "    print(f\"\\nShot Selection Efficiency:\")\n",
    "    print(f\"   Close Range Value: {close_range_value:.3f}\")\n",
    "    print(f\"   Catch & Shoot Value: {catch_shoot_value:.3f}\")\n",
    "    print(f\"   Pull Up Value: {pull_up_value:.3f}\")\n",
    "    print(f\"   Total Shot Selection Value: {total_shot_value:.3f}\")\n",
    "    print(f\"   Interpretation: Higher values indicate better shot selection for this player's skillset\")\n",
    "else:\n",
    "    print(f\"\\n12. Personalized Shot Selection: No shooting data available for LeBron\")"
   ]
  },
  {
   "cell_type": "code",
   "execution_count": 258,
   "metadata": {},
   "outputs": [
    {
     "name": "stdout",
     "output_type": "stream",
     "text": [
      "LeBron's Basketball IQ Percentiles vs League:\n"
     ]
    },
    {
     "data": {
      "text/html": [
       "<div>\n",
       "<style scoped>\n",
       "    .dataframe tbody tr th:only-of-type {\n",
       "        vertical-align: middle;\n",
       "    }\n",
       "\n",
       "    .dataframe tbody tr th {\n",
       "        vertical-align: top;\n",
       "    }\n",
       "\n",
       "    .dataframe thead th {\n",
       "        text-align: right;\n",
       "    }\n",
       "</style>\n",
       "<table border=\"1\" class=\"dataframe\">\n",
       "  <thead>\n",
       "    <tr style=\"text-align: right;\">\n",
       "      <th></th>\n",
       "      <th>Metric</th>\n",
       "      <th>LeBron_Value</th>\n",
       "      <th>League_Average</th>\n",
       "      <th>Percentile</th>\n",
       "      <th>Rank</th>\n",
       "    </tr>\n",
       "  </thead>\n",
       "  <tbody>\n",
       "    <tr>\n",
       "      <th>0</th>\n",
       "      <td>Ast Tov Ratio</td>\n",
       "      <td>2.216</td>\n",
       "      <td>2.062</td>\n",
       "      <td>67.8</td>\n",
       "      <td>65/202</td>\n",
       "    </tr>\n",
       "    <tr>\n",
       "      <th>1</th>\n",
       "      <td>Late Clock Efficiency</td>\n",
       "      <td>0.422</td>\n",
       "      <td>0.403</td>\n",
       "      <td>68.3</td>\n",
       "      <td>63/202</td>\n",
       "    </tr>\n",
       "    <tr>\n",
       "      <th>2</th>\n",
       "      <td>Clutch Ast Tov</td>\n",
       "      <td>2.720</td>\n",
       "      <td>1.915</td>\n",
       "      <td>79.2</td>\n",
       "      <td>42/202</td>\n",
       "    </tr>\n",
       "    <tr>\n",
       "      <th>3</th>\n",
       "      <td>Efg Pct</td>\n",
       "      <td>0.572</td>\n",
       "      <td>0.550</td>\n",
       "      <td>68.8</td>\n",
       "      <td>62/202</td>\n",
       "    </tr>\n",
       "    <tr>\n",
       "      <th>4</th>\n",
       "      <td>Deflections Per 36</td>\n",
       "      <td>1.900</td>\n",
       "      <td>2.401</td>\n",
       "      <td>27.7</td>\n",
       "      <td>140/202</td>\n",
       "    </tr>\n",
       "    <tr>\n",
       "      <th>5</th>\n",
       "      <td>Screen Assists Per 36</td>\n",
       "      <td>0.900</td>\n",
       "      <td>1.091</td>\n",
       "      <td>71.3</td>\n",
       "      <td>56/202</td>\n",
       "    </tr>\n",
       "    <tr>\n",
       "      <th>6</th>\n",
       "      <td>Quick Decision Efficiency</td>\n",
       "      <td>0.575</td>\n",
       "      <td>0.471</td>\n",
       "      <td>89.1</td>\n",
       "      <td>21/202</td>\n",
       "    </tr>\n",
       "    <tr>\n",
       "      <th>7</th>\n",
       "      <td>Loose Balls Per 36</td>\n",
       "      <td>0.700</td>\n",
       "      <td>0.705</td>\n",
       "      <td>40.6</td>\n",
       "      <td>99/202</td>\n",
       "    </tr>\n",
       "    <tr>\n",
       "      <th>8</th>\n",
       "      <td>Shooting Foul Pct</td>\n",
       "      <td>6.810</td>\n",
       "      <td>23.823</td>\n",
       "      <td>95.0</td>\n",
       "      <td>10/202</td>\n",
       "    </tr>\n",
       "    <tr>\n",
       "      <th>9</th>\n",
       "      <td>Successful Boxouts Per 36</td>\n",
       "      <td>0.400</td>\n",
       "      <td>0.461</td>\n",
       "      <td>64.9</td>\n",
       "      <td>63/202</td>\n",
       "    </tr>\n",
       "    <tr>\n",
       "      <th>10</th>\n",
       "      <td>Charges Drawn Per 36</td>\n",
       "      <td>0.100</td>\n",
       "      <td>0.043</td>\n",
       "      <td>72.8</td>\n",
       "      <td>37/202</td>\n",
       "    </tr>\n",
       "    <tr>\n",
       "      <th>11</th>\n",
       "      <td>Shot Selection Value</td>\n",
       "      <td>0.853</td>\n",
       "      <td>0.794</td>\n",
       "      <td>73.3</td>\n",
       "      <td>53/202</td>\n",
       "    </tr>\n",
       "  </tbody>\n",
       "</table>\n",
       "</div>"
      ],
      "text/plain": [
       "                       Metric  LeBron_Value  League_Average  Percentile  \\\n",
       "0               Ast Tov Ratio         2.216           2.062        67.8   \n",
       "1       Late Clock Efficiency         0.422           0.403        68.3   \n",
       "2              Clutch Ast Tov         2.720           1.915        79.2   \n",
       "3                     Efg Pct         0.572           0.550        68.8   \n",
       "4          Deflections Per 36         1.900           2.401        27.7   \n",
       "5       Screen Assists Per 36         0.900           1.091        71.3   \n",
       "6   Quick Decision Efficiency         0.575           0.471        89.1   \n",
       "7          Loose Balls Per 36         0.700           0.705        40.6   \n",
       "8           Shooting Foul Pct         6.810          23.823        95.0   \n",
       "9   Successful Boxouts Per 36         0.400           0.461        64.9   \n",
       "10       Charges Drawn Per 36         0.100           0.043        72.8   \n",
       "11       Shot Selection Value         0.853           0.794        73.3   \n",
       "\n",
       "       Rank  \n",
       "0    65/202  \n",
       "1    63/202  \n",
       "2    42/202  \n",
       "3    62/202  \n",
       "4   140/202  \n",
       "5    56/202  \n",
       "6    21/202  \n",
       "7    99/202  \n",
       "8    10/202  \n",
       "9    63/202  \n",
       "10   37/202  \n",
       "11   53/202  "
      ]
     },
     "metadata": {},
     "output_type": "display_data"
    }
   ],
   "source": [
    "# Load the complete IQ metrics dataset to calculate LeBron's percentiles\n",
    "iq_metrics = pd.read_csv('../data/processed/all_player_iq_metrics.csv')\n",
    "\n",
    "# Find LeBron's data\n",
    "lebron_metrics = iq_metrics[iq_metrics['PLAYER_ID'] == int(lebron_id)].iloc[0]\n",
    "\n",
    "# Calculate percentiles for each IQ metric\n",
    "metric_columns = [\n",
    "    'ast_tov_ratio', 'late_clock_efficiency', 'clutch_ast_tov', 'efg_pct',\n",
    "    'deflections_per_36', 'screen_assists_per_36', 'quick_decision_efficiency',\n",
    "    'loose_balls_per_36', 'shooting_foul_pct', 'successful_boxouts_per_36',\n",
    "    'charges_drawn_per_36', 'shot_selection_value'\n",
    "]\n",
    "\n",
    "# Create LeBron's percentile dataframe\n",
    "lebron_percentiles = []\n",
    "\n",
    "for metric in metric_columns:\n",
    "    # Get LeBron's value\n",
    "    lebron_value = lebron_metrics[metric]\n",
    "    \n",
    "    # Calculate percentile (for shooting_foul_pct, lower is better, so we flip it)\n",
    "    if metric == 'shooting_foul_pct':\n",
    "        # For shooting fouls, lower is better, so we calculate what % he's better than\n",
    "        percentile = (iq_metrics[metric] > lebron_value).mean() * 100\n",
    "    else:\n",
    "        # For all other metrics, higher is better\n",
    "        percentile = (iq_metrics[metric] < lebron_value).mean() * 100\n",
    "    \n",
    "    # Get league average and rank\n",
    "    league_avg = iq_metrics[metric].mean()\n",
    "    rank = iq_metrics[metric].rank(ascending=False if metric != 'shooting_foul_pct' else True)[iq_metrics['PLAYER_ID'] == int(lebron_id)].iloc[0]\n",
    "    total_players = len(iq_metrics)\n",
    "    \n",
    "    lebron_percentiles.append({\n",
    "        'Metric': metric.replace('_', ' ').title(),\n",
    "        'LeBron_Value': round(lebron_value, 3),\n",
    "        'League_Average': round(league_avg, 3),\n",
    "        'Percentile': round(percentile, 1),\n",
    "        'Rank': f\"{int(rank)}/{total_players}\"\n",
    "    })\n",
    "\n",
    "# Convert to DataFrame\n",
    "percentiles_df = pd.DataFrame(lebron_percentiles)\n",
    "\n",
    "print(\"LeBron's Basketball IQ Percentiles vs League:\")\n",
    "display(percentiles_df)"
   ]
  }
 ],
 "metadata": {
  "kernelspec": {
   "display_name": ".venv",
   "language": "python",
   "name": "python3"
  },
  "language_info": {
   "codemirror_mode": {
    "name": "ipython",
    "version": 3
   },
   "file_extension": ".py",
   "mimetype": "text/x-python",
   "name": "python",
   "nbconvert_exporter": "python",
   "pygments_lexer": "ipython3",
   "version": "3.9.6"
  }
 },
 "nbformat": 4,
 "nbformat_minor": 4
}
