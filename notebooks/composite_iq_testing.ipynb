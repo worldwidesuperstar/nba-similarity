{
 "cells": [
  {
   "cell_type": "code",
   "metadata": {},
   "source": "import pandas as pd\nimport numpy as np\nimport matplotlib.pyplot as plt\nfrom scipy import stats"
  },
  {
   "cell_type": "markdown",
   "metadata": {},
   "source": [
    "## Load the Percentile Data\n",
    "\n",
    "First, let's load the percentile data we calculated and see what we're working with."
   ]
  },
  {
   "cell_type": "code",
   "execution_count": 25,
   "metadata": {},
   "outputs": [
    {
     "name": "stdout",
     "output_type": "stream",
     "text": [
      "Percentile columns (11): ['ast_tov_ratio_percentile', 'late_clock_efficiency_percentile', 'clutch_ast_tov_percentile', 'efg_pct_percentile', 'deflections_per_36_percentile', 'screen_assists_per_36_percentile', 'loose_balls_per_36_percentile', 'shooting_foul_pct_percentile', 'personal_foul_rate_percentile', 'age_percentile', 'ast_pct_percentile']\n",
      "\n",
      "Missing values in percentiles:\n",
      "ast_tov_ratio_percentile: 0\n",
      "late_clock_efficiency_percentile: 0\n",
      "clutch_ast_tov_percentile: 0\n",
      "efg_pct_percentile: 0\n",
      "deflections_per_36_percentile: 0\n",
      "screen_assists_per_36_percentile: 0\n",
      "loose_balls_per_36_percentile: 0\n",
      "shooting_foul_pct_percentile: 0\n",
      "personal_foul_rate_percentile: 0\n",
      "age_percentile: 0\n",
      "ast_pct_percentile: 0\n"
     ]
    }
   ],
   "source": [
    "# Identify percentile columns\n",
    "percentile_cols = [col for col in df.columns if col.endswith('_percentile')]\n",
    "print(f\"Percentile columns ({len(percentile_cols)}): {percentile_cols}\")\n",
    "\n",
    "# Check for any missing values in percentiles\n",
    "print(\"\\nMissing values in percentiles:\")\n",
    "for col in percentile_cols:\n",
    "    missing = df[col].isnull().sum()\n",
    "    print(f\"{col}: {missing}\")"
   ]
  },
  {
   "cell_type": "code",
   "metadata": {},
   "source": "iq_metrics = pd.read_csv('../data/processed/all_player_iq_metrics.csv')\n\nprint(f\"raw iq metrics shape: {iq_metrics.shape}\")\nprint(f\"\\ncolumns: {list(iq_metrics.columns)}\")\n\nmetric_columns = [\n    'ast_tov_ratio', 'late_clock_efficiency', 'clutch_ast_tov', 'efg_pct',\n    'deflections_per_36', 'screen_assists_per_36', 'loose_balls_per_36', \n    'shooting_foul_pct', 'personal_foul_rate', 'age', 'ast_pct'\n]\n\nprint(f\"\\ncalculating percentiles for {len(iq_metrics)} players across {len(metric_columns)} metrics...\")\n\nbase_columns = ['PLAYER_ID', 'PLAYER_NAME', 'TEAM_ID', 'POSITION', 'GP', 'MIN']\ndf = iq_metrics[base_columns].copy()\n\nfor metric in metric_columns:\n    print(f\"  calculating percentiles for {metric}...\")\n    \n    if metric in ['screen_assists_per_36', 'shooting_foul_pct']:\n        percentiles = []\n        for idx, row in iq_metrics.iterrows():\n            value = row[metric]\n            position = row.get('POSITION', 'Unknown')\n            \n            if position == 'Unknown' or pd.isna(position):\n                metric_values = iq_metrics[metric]\n                finite_values = metric_values[np.isfinite(metric_values)]\n                if np.isfinite(value):\n                    if metric in ['shooting_foul_pct', 'personal_foul_rate']:\n                        percentile = (finite_values > value).mean() * 100\n                    else:\n                        percentile = (finite_values < value).mean() * 100\n                else:\n                    percentile = np.nan\n            else:\n                same_position_values = iq_metrics[iq_metrics['POSITION'] == position][metric]\n                finite_position_values = same_position_values[np.isfinite(same_position_values)]\n                \n                if np.isfinite(value) and len(finite_position_values) > 1:\n                    if metric in ['shooting_foul_pct', 'personal_foul_rate']:\n                        percentile = (finite_position_values > value).mean() * 100\n                    else:\n                        percentile = (finite_position_values < value).mean() * 100\n                else:\n                    percentile = np.nan\n            percentiles.append(percentile)\n    else:\n        metric_values = iq_metrics[metric]\n        finite_values = metric_values[np.isfinite(metric_values)]\n        \n        percentiles = []\n        for value in metric_values:\n            if np.isfinite(value):\n                if metric in ['personal_foul_rate']:\n                    percentile = (finite_values > value).mean() * 100\n                else:\n                    percentile = (finite_values < value).mean() * 100\n            else:\n                percentile = np.nan\n            percentiles.append(percentile)\n    \n    df[f'{metric}_percentile'] = np.round(percentiles, 1)\n    df[f'{metric}_percentile'] = df[f'{metric}_percentile'].fillna(50.0)\n\nprint(f\"\\ndataset shape after adding percentiles: {df.shape}\")\nprint(f\"columns: {list(df.columns)}\")\n\ndf.head()"
  },
  {
   "cell_type": "code",
   "execution_count": null,
   "metadata": {},
   "outputs": [],
   "source": "percentile_cols = [col for col in df.columns if col.endswith('_percentile')]\nprint(f\"percentile columns ({len(percentile_cols)}): {percentile_cols}\")\n\nprint(\"\\nmissing values in percentiles:\")\nfor col in percentile_cols:\n    missing = df[col].isnull().sum()\n    print(f\"{col}: {missing}\")"
  },
  {
   "cell_type": "code",
   "execution_count": 27,
   "metadata": {},
   "outputs": [
    {
     "name": "stdout",
     "output_type": "stream",
     "text": [
      "=== TOP 10 - TRADITIONAL IQ SCALE METHOD ===\n",
      " 1. Nikola Jokić              (Unknown, 1610612743) - 114.9 IQ\n",
      " 2. LeBron James              (Unknown, 1610612747) - 114.4 IQ\n",
      " 3. Tyrese Haliburton         (Unknown, 1610612754) - 114.2 IQ\n",
      " 4. Jimmy Butler III          (Unknown, 1610612744) - 113.5 IQ\n",
      " 5. Chris Paul                (Unknown, 1610612759) - 113.2 IQ\n",
      " 6. Tyus Jones                (Unknown, 1610612756) - 112.0 IQ\n",
      " 7. Matisse Thybulle          (Unknown, 1610612757) - 111.5 IQ\n",
      " 8. Stephen Curry             (Unknown, 1610612744) - 111.3 IQ\n",
      " 9. Giannis Antetokounmpo     (Unknown, 1610612749) - 111.1 IQ\n",
      "10. Brandon Williams          (Unknown, 1610612742) - 110.0 IQ\n"
     ]
    }
   ],
   "source": [
    "# Method 2: Convert to traditional IQ scale\n",
    "def percentile_to_iq(percentile):\n",
    "    \"\"\"Convert percentile (0-100) to IQ scale (mean=100, std=15)\"\"\"\n",
    "    # Convert percentile to z-score, then to IQ scale\n",
    "    z_score = stats.norm.ppf(percentile / 100)\n",
    "    iq_score = 100 + 15 * z_score\n",
    "    return iq_score\n",
    "\n",
    "# Convert each percentile to IQ scale, then average\n",
    "iq_cols = []\n",
    "for col in percentile_cols:\n",
    "    iq_col = col.replace('_percentile', '_iq')\n",
    "    df[iq_col] = df[col].apply(percentile_to_iq)\n",
    "    iq_cols.append(iq_col)\n",
    "\n",
    "df['composite_iq_scale'] = df[iq_cols].mean(axis=1)\n",
    "df['rank_iq_scale'] = df['composite_iq_scale'].rank(ascending=False, method='min').astype(int)\n",
    "\n",
    "print(\"=== TOP 10 - TRADITIONAL IQ SCALE METHOD ===\")\n",
    "top_10_iq = df.nlargest(10, 'composite_iq_scale')[['PLAYER_NAME', 'POSITION', 'TEAM_ID', 'composite_iq_scale', 'rank_iq_scale']]\n",
    "for _, player in top_10_iq.iterrows():\n",
    "    print(f\"{player['rank_iq_scale']:2d}. {player['PLAYER_NAME']:<25} ({player['POSITION']:<3}, {player['TEAM_ID']}) - {player['composite_iq_scale']:.1f} IQ\")"
   ]
  },
  {
   "cell_type": "code",
   "execution_count": null,
   "metadata": {},
   "outputs": [],
   "source": "df['composite_simple_avg'] = df[percentile_cols].mean(axis=1)\n\ndf['rank_simple_avg'] = df['composite_simple_avg'].rank(ascending=False, method='min').astype(int)\n\nprint(\"top 10 - simple average method\")\ntop_10_simple = df.nlargest(10, 'composite_simple_avg')[['PLAYER_NAME', 'POSITION', 'TEAM_ID', 'composite_simple_avg', 'rank_simple_avg']]\nfor _, player in top_10_simple.iterrows():\n    print(f\"{player['rank_simple_avg']:2d}. {player['PLAYER_NAME']:<25} ({player['POSITION']:<3}, {player['TEAM_ID']}) - {player['composite_simple_avg']:.1f}%\")"
  }
 ],
 "metadata": {
  "kernelspec": {
   "display_name": ".venv",
   "language": "python",
   "name": "python3"
  },
  "language_info": {
   "codemirror_mode": {
    "name": "ipython",
    "version": 3
   },
   "file_extension": ".py",
   "mimetype": "text/x-python",
   "name": "python",
   "nbconvert_exporter": "python",
   "pygments_lexer": "ipython3",
   "version": "3.9.6"
  }
 },
 "nbformat": 4,
 "nbformat_minor": 4
}